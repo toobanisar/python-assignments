{
 "cells": [
  {
   "cell_type": "markdown",
   "metadata": {},
   "source": [
    "# QUESTION NO 01\n",
    "OBJECT ORIENTED PROGRAMMING:\n",
    "Object-oriented programming (OOP) is a programming paradigm based on the concept of \"objects\", which can contain data, in the form of attriubutes, and code, in the form of methods.\n",
    "\n",
    "\n",
    "# QUESTION NO 02\n",
    "BENEFITS OF OOP:\n",
    "1...It provides a clear modular structure for programs which makes it good for defining abstract datatypes in which implementation details are hidden\n",
    "2...Objects can also be reused within an across applications. The reuse of software also lowers the cost of development. More effort is put into the object-oriented analysis and design, which lowers the overall cost of development.\n",
    "3...It makes software easier to maintain. Since the design is modular, part of the system can be updated in case of issues without a need to make large-scale changes\n",
    "4...It provides a good framework for code libraries where the supplied software components can be easily adapted and modified by the programmer. This is particularly useful for developing graphical user interfaces.\n",
    "\n",
    "\n",
    "# QUESTION NO 03\n",
    "PYTHON METHOD:\n",
    "1.Method is called by its name, but it is associated to an object (dependent).\n",
    "2.A method is implicitly passed the object on which it is invoked.\n",
    "3.It may or may not return any data.\n",
    "4.A method can operate on the data (instance variables) that is contained by the corresponding class\n",
    "\n",
    "FUNCTIONS:\n",
    "1.Function is block of code that is also called by its name. (independent)\n",
    "2.The function can have different parameters or may not have any at all. If any data (parameters) are passed, they are passed explicitly.\n",
    "3.It may or may not return any data.\n",
    "4.Function does not deal with Class and its instance concept.\n",
    "\n",
    "# QUESTION NO 04\n",
    "CLASS:\n",
    "In object-oriented programming, a class is a blueprint for creating objects (a particular data structure), providing initial values for state (member variables or attributes), and implementations of behavior (member functions or methods).\n",
    "\n",
    "OBJECT:\n",
    "An object is a component of a program that knows how to perform certain actions and how to interact with other elements of the program. Objects are the basic units of object-oriented programming.\n",
    "\n",
    "ATTRIBUTE:\n",
    "Attributes are data stored inside a class or instance and represent the state or quality of the class or instance. In short, attributes store information about the instance.\n",
    "\n",
    "BEHAVIOUR:\n",
    "The behavior of an object is defined by its methods, which are the functions and subroutines defined within the object class. Without class methods, a class would simply be a structure.\n",
    "\n",
    "\n",
    "\n"
   ]
  },
  {
   "cell_type": "code",
   "execution_count": 26,
   "metadata": {},
   "outputs": [
    {
     "name": "stdout",
     "output_type": "stream",
     "text": [
      "Wish\n",
      "2004\n",
      "silver\n",
      "toyota\n",
      "5\n"
     ]
    }
   ],
   "source": [
    "# QUESTION NO 05\n",
    "class Car():\n",
    "    def __init__(self,name,model,colour):\n",
    "        self.name   = name\n",
    "        self.model  = model\n",
    "        self.colour = colour\n",
    "    def manufacturer(self):\n",
    "        print(\"toyota\")\n",
    "    def doors(self):\n",
    "        print(5)\n",
    "Mycar = Car('Wish',2004,\"silver\")\n",
    "print(Mycar.name)\n",
    "print(Mycar.model)\n",
    "print(Mycar.colour)\n",
    "Mycar.manufacturer()\n",
    "Mycar.doors()"
   ]
  }
 ],
 "metadata": {
  "kernelspec": {
   "display_name": "Python 3",
   "language": "python",
   "name": "python3"
  },
  "language_info": {
   "codemirror_mode": {
    "name": "ipython",
    "version": 3
   },
   "file_extension": ".py",
   "mimetype": "text/x-python",
   "name": "python",
   "nbconvert_exporter": "python",
   "pygments_lexer": "ipython3",
   "version": "3.7.4"
  }
 },
 "nbformat": 4,
 "nbformat_minor": 2
}
