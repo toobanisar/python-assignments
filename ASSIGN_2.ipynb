{
 "cells": [
  {
   "cell_type": "code",
   "execution_count": 1,
   "metadata": {},
   "outputs": [
    {
     "name": "stdout",
     "output_type": "stream",
     "text": [
      "Enter the marks of English67\n",
      "Enter the marks of Mathematics89\n",
      "Enter the marks of physics78\n",
      "Enter the marks of Computer88\n",
      "Enter the marks of chemistry90\n",
      "Grade:A\n"
     ]
    }
   ],
   "source": [
    "# QNO.01 MARKSHEET:\n",
    "sub1 = int(input('Enter the marks of English'))\n",
    "sub2 = int(input('Enter the marks of Mathematics'))\n",
    "sub3 = int(input('Enter the marks of physics'))\n",
    "sub4 = int(input('Enter the marks of Computer'))\n",
    "sub5 = int(input('Enter the marks of chemistry'))\n",
    "avg = (sub1+ sub2+ sub3+ sub4+ sub5) /5\n",
    "if (avg >= 90):\n",
    "    print(\"Grade:A+\")\n",
    "elif (\"avg >=80 & <90\"):\n",
    "     print(\"Grade:A\")\n",
    "elif (\"avg >=70 & <80\"):\n",
    "     print(\"Grade:B\")\n",
    "elif (\"avg >=60 & <70\"):\n",
    "     print(\"Grade:C\")\n",
    "elif (\"avg >=50 & <60\"):\n",
    "     print(\"Grade:D\")\n",
    "elif (\"avg >=40 & <50\"):\n",
    "     print(\"Grade:E\")\n",
    "elif (\"avg >=0 & <40\"):\n",
    "     print(\"Grade:Fail\")\n",
    "else :\n",
    "    print(\"You have entered the incorrect marks \")"
   ]
  },
  {
   "cell_type": "code",
   "execution_count": 2,
   "metadata": {},
   "outputs": [
    {
     "name": "stdout",
     "output_type": "stream",
     "text": [
      " Enter a number15\n",
      " Odd number\n"
     ]
    }
   ],
   "source": [
    "# QNO.02 GIVEN NUMBER IS EVEN OR ODD:\n",
    "n = int(input(\" Enter a number\"))\n",
    "if (n % 2== 0):\n",
    "    print(\"Even number \")\n",
    "else:\n",
    "    print(\" Odd number\")"
   ]
  },
  {
   "cell_type": "code",
   "execution_count": 3,
   "metadata": {},
   "outputs": [
    {
     "name": "stdout",
     "output_type": "stream",
     "text": [
      "5\n"
     ]
    }
   ],
   "source": [
    "#QNO.03 LENGHT OF THE LIST:\n",
    "LIST = [1,3,5,'SEVEN',9]\n",
    "print( len(LIST))"
   ]
  },
  {
   "cell_type": "code",
   "execution_count": 4,
   "metadata": {},
   "outputs": [
    {
     "name": "stdout",
     "output_type": "stream",
     "text": [
      "25\n"
     ]
    }
   ],
   "source": [
    "# QNO.04 SUM OF ALL NUMERIC ITEMS IN A LIST:\n",
    "arr = [1,3,5,7,9]\n",
    "print(sum(arr))"
   ]
  },
  {
   "cell_type": "code",
   "execution_count": 5,
   "metadata": {},
   "outputs": [
    {
     "name": "stdout",
     "output_type": "stream",
     "text": [
      "the largest element: 11\n"
     ]
    }
   ],
   "source": [
    "# QNO.05 LARGEST NUMBER OF THE LIST:\n",
    "LIST = [1,3,5,7,9,11]\n",
    "print(\"the largest element:\", max(LIST))"
   ]
  },
  {
   "cell_type": "code",
   "execution_count": 9,
   "metadata": {},
   "outputs": [
    {
     "name": "stdout",
     "output_type": "stream",
     "text": [
      "1\n",
      "1\n",
      "2\n",
      "3\n"
     ]
    }
   ],
   "source": [
    "# QNO.06  ELEMENTS THAT ARE LESS THAN 5:\n",
    "a=[1,1,2,3,5,8,13,21,34,55,89]\n",
    "def print_less_than_five():\n",
    "    for i in range(len(a)):\n",
    "        if a[i]<5:\n",
    "            print(a[i])\n",
    "print_less_than_five()\n",
    "            "
   ]
  }
 ],
 "metadata": {
  "kernelspec": {
   "display_name": "Python 3",
   "language": "python",
   "name": "python3"
  },
  "language_info": {
   "codemirror_mode": {
    "name": "ipython",
    "version": 3
   },
   "file_extension": ".py",
   "mimetype": "text/x-python",
   "name": "python",
   "nbconvert_exporter": "python",
   "pygments_lexer": "ipython3",
   "version": "3.7.4"
  }
 },
 "nbformat": 4,
 "nbformat_minor": 2
}
