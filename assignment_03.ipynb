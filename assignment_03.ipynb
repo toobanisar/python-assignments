{
 "cells": [
  {
   "cell_type": "code",
   "execution_count": 9,
   "metadata": {},
   "outputs": [
    {
     "name": "stdout",
     "output_type": "stream",
     "text": [
      "Enter the first value 6\n",
      "Enter the second value 5\n",
      "Enter operator *\n",
      "30 answer\n"
     ]
    }
   ],
   "source": [
    "# CALCULATOR:\n",
    "val1 = int(input(\"Enter the first value \"))\n",
    "val2 =int( input(\"Enter the second value \"))\n",
    "operator = input(\"Enter operator \")\n",
    "\n",
    "if operator == '+':\n",
    "    val = val1 + val2\n",
    "    print(val,'answer')\n",
    "elif  operator == '-':\n",
    "    val = (val1 - val2)\n",
    "    print(val,'answer')\n",
    "elif  operator == '*':\n",
    "    val = val1 * val2\n",
    "    print(val,'answer')\n",
    "elif  operator == '/':\n",
    "    val = val1 / val2\n",
    "    print(val,'answer')\n",
    "elif  operator == '**':\n",
    "    val = val1 ** val2\n",
    "    print(val,'answer')    \n",
    "else :\n",
    "        print('Enter the correct operator')\n",
    "    "
   ]
  },
  {
   "cell_type": "code",
   "execution_count": 1,
   "metadata": {},
   "outputs": [
    {
     "name": "stdout",
     "output_type": "stream",
     "text": [
      "Numeric values in list: [24, 18, 10, 20, 12]\n"
     ]
    }
   ],
   "source": [
    "# CHECK THE NUMERIC VALUES IN THE LIST:\n",
    "list1 = ['Rs.24', 'Rs.18','Rs.10','Rs.20','Rs.12']\n",
    "res=[int(sub.split('.')[1]) for sub in list1]\n",
    "print(\"Numeric values in list: \"+ str(res))\n"
   ]
  },
  {
   "cell_type": "code",
   "execution_count": 26,
   "metadata": {},
   "outputs": [
    {
     "name": "stdout",
     "output_type": "stream",
     "text": [
      "{'first_name': 'Ali', 'last_name': 'Ahmed', ' class': ' Matric', 'roll no.': 234}\n"
     ]
    }
   ],
   "source": [
    "# TO ADD A KEY IN THE DICTIONARY\n",
    "student = {\n",
    "    \"first_name\":  \"Ali\",\n",
    "    \"last_name\":  \"Ahmed\",\n",
    "   \" class\": \" Matric\"\n",
    "}\n",
    "student  [\"roll no.\"] = 234\n",
    "print(student)\n",
    "    "
   ]
  },
  {
   "cell_type": "code",
   "execution_count": 27,
   "metadata": {},
   "outputs": [
    {
     "name": "stdout",
     "output_type": "stream",
     "text": [
      "62\n"
     ]
    }
   ],
   "source": [
    "# TO SUM ALL THE NUMERIC ITEMS: \n",
    "d = {'key1': 1,'key2': 14,'key3': 47}\n",
    "sum1 = sum(d[item] for item in d)\n",
    "print(sum1)"
   ]
  },
  {
   "cell_type": "code",
   "execution_count": 6,
   "metadata": {},
   "outputs": [
    {
     "name": "stdout",
     "output_type": "stream",
     "text": [
      "initial_dictionary {'a': 1, 'b': 2, 'c': 3, 'd': 2}\n",
      "final_dict {1: {'a'}, 2: {'b', 'd'}, 3: {'c'}}\n",
      "duplicate values [2]\n"
     ]
    }
   ],
   "source": [
    "# TO IDENTIFY ALL THE DUPLICATE ITEMS IN THE LIST:\n",
    "ini_dict = {'a':1, 'b':2, 'c':3, 'd':2} \n",
    "print(\"initial_dictionary\", (ini_dict)) \n",
    "f_dict = {} \n",
    "  \n",
    "for key, value in ini_dict.items(): \n",
    "    f_dict.setdefault(value, set()).add(key) \n",
    "      \n",
    "result = [key for key, values in f_dict.items() \n",
    "                              if len(values) > 1] \n",
    "  \n",
    "# printing result \n",
    "print(\"final_dict\",(f_dict))\n",
    "print(\"duplicate values\", (result)) "
   ]
  },
  {
   "cell_type": "code",
   "execution_count": 2,
   "metadata": {},
   "outputs": [
    {
     "name": "stdout",
     "output_type": "stream",
     "text": [
      "Key is already present in the dictionary\n",
      "Key is not present in the dictionary\n"
     ]
    }
   ],
   "source": [
    "# TO CHECK FOR THE ALREADY EXISTING KEY IN DICTIONARY:\n",
    "d = {1: 10, 2: 20, 3: 30, 4: 40, 5: 50, 6: 60}\n",
    "def is_key_present(x):\n",
    "  if x in d:\n",
    "      print('Key is already present in the dictionary')\n",
    "  else:\n",
    "      print('Key is not present in the dictionary')\n",
    "is_key_present(5)\n",
    "is_key_present(9)"
   ]
  }
 ],
 "metadata": {
  "kernelspec": {
   "display_name": "Python 3",
   "language": "python",
   "name": "python3"
  },
  "language_info": {
   "codemirror_mode": {
    "name": "ipython",
    "version": 3
   },
   "file_extension": ".py",
   "mimetype": "text/x-python",
   "name": "python",
   "nbconvert_exporter": "python",
   "pygments_lexer": "ipython3",
   "version": "3.7.4"
  }
 },
 "nbformat": 4,
 "nbformat_minor": 2
}
