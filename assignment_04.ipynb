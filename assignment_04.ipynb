{
 "cells": [
  {
   "cell_type": "code",
   "execution_count": 3,
   "metadata": {},
   "outputs": [
    {
     "name": "stdout",
     "output_type": "stream",
     "text": [
      "{'first_name': 'Sara', 'last_name': 'nisar', 'age': '15', 'city': 'karachi'}\n",
      "{'first_name': 'Sara', 'last_name': 'nisar', 'age': '15', 'city': 'karachi', 'qualification': 'matric'}\n",
      "{'first_name': 'Sara', 'last_name': 'nisar', 'age': '15', 'city': 'karachi', 'qualification': 'inter'}\n",
      "{'first_name': 'Sara', 'last_name': 'nisar', 'age': '15', 'city': 'karachi'}\n",
      " Information stored in dictionary are: \n",
      "first_name\n",
      "last_name\n",
      "age\n",
      "city\n",
      "Sara\n",
      "nisar\n",
      "15\n",
      "karachi\n"
     ]
    }
   ],
   "source": [
    "# QNO.01)\n",
    "info={\n",
    "    \"first_name\" : \"Sara\",\n",
    "    \"last_name\"  : \"nisar\",\n",
    "    \"age\"        : \"15\",\n",
    "    \"city\"       : \"karachi\"\n",
    "}\n",
    "print(info)\n",
    "info[\"qualification\"] = 'matric'\n",
    "print(info)\n",
    "info.update(qualification = \"inter\" )\n",
    "print(info)\n",
    "del info[\"qualification\"]\n",
    "print(info)\n",
    "print(\" Information stored in dictionary are: \")\n",
    "for each_piece in info.keys():\n",
    "    print(each_piece)\n",
    "for each_piece in info.values():\n",
    "    print(each_piece)"
   ]
  },
  {
   "cell_type": "code",
   "execution_count": 40,
   "metadata": {},
   "outputs": [
    {
     "name": "stdout",
     "output_type": "stream",
     "text": [
      "{'Karachi': {'country': 'Pakistan', 'population': 'sixteen million', 'fact': 'sixth largest city in the world'}, 'New york': {'country': 'United States', 'population': 'nineteen million', 'fact ': 'more than 200 languages are being spoken here'}, 'Lahore': {'country': 'Pakistan', 'population': 'elevan million', 'fact ': 'historical and said to be about 2000 years old'}}\n"
     ]
    }
   ],
   "source": [
    "# QNO.02)\n",
    "cities={\n",
    "  \"Karachi\":{       \n",
    "        \"country\" : \"Pakistan\",\n",
    "        \"population\" : \"sixteen million\",\n",
    "        \"fact\" : \"sixth largest city in the world\"\n",
    "    },\n",
    "    \"New york\":{        \n",
    "        \"country\" : \"United States\",\n",
    "        \"population\" : \"nineteen million\",\n",
    "        \"fact \" : \"more than 200 languages are being spoken here\"\n",
    "    },\n",
    "     \"Lahore\":{          \n",
    "        \"country\" : \"Pakistan\",\n",
    "        \"population\" : \"elevan million\",\n",
    "        \"fact \" : \"historical and said to be about 2000 years old\"\n",
    "    }\n",
    "}\n",
    "print(cities)\n"
   ]
  },
  {
   "cell_type": "code",
   "execution_count": 41,
   "metadata": {},
   "outputs": [
    {
     "name": "stdout",
     "output_type": "stream",
     "text": [
      "Enter the age18\n",
      " The ticket is $15 \n"
     ]
    }
   ],
   "source": [
    "# QNO.03)\n",
    "age=int(input(\"Enter the age\"))\n",
    "if (age <= 3):\n",
    "    print(\" The ticket is free \")\n",
    "elif (age >3 and age <=12):\n",
    "     print(\" The ticket is $10 \")\n",
    "elif (age >12):\n",
    "     print(\" The ticket is $15 \")\n",
    "else:\n",
    "    print (\"enter correct digits\")"
   ]
  },
  {
   "cell_type": "code",
   "execution_count": 29,
   "metadata": {},
   "outputs": [
    {
     "name": "stdout",
     "output_type": "stream",
     "text": [
      "one of my favourite book is Alice_in_Wonderland\n"
     ]
    }
   ],
   "source": [
    "# QNO.04)\n",
    "def favourite_book(title):\n",
    "    print(\"one of my favourite book is \"+title)\n",
    "favourite_book(\"Alice_in_Wonderland\")"
   ]
  },
  {
   "cell_type": "code",
   "execution_count": 55,
   "metadata": {},
   "outputs": [
    {
     "name": "stdout",
     "output_type": "stream",
     "text": [
      " Please enter your guess15\n",
      "your guess is lower than correct answer\n",
      " Please enter your guess20\n",
      "your guess is higher than correct answer\n",
      " Please enter your guess18\n",
      " Hit! \n"
     ]
    }
   ],
   "source": [
    "# QNO.05) GUESS THE NUMBER GAME:\n",
    "import random\n",
    "numbe_of_guesses = 0\n",
    "hidden = random.randint(1,30)\n",
    "while (numbe_of_guesses<3):\n",
    "    guess = int(input(\" Please enter your guess\"))\n",
    "    numbe_of_guesses+= 1 \n",
    "    if guess == hidden:\n",
    "        print(\" Hit! \")\n",
    "        break\n",
    "    elif (guess < hidden):\n",
    "        print(\"your guess is lower than correct answer\")\n",
    "    else:\n",
    "        print(\"your guess is higher than correct answer\")"
   ]
  },
  {
   "cell_type": "code",
   "execution_count": 1,
   "metadata": {},
   "outputs": [
    {
     "name": "stdout",
     "output_type": "stream",
     "text": [
      "1: What is your country name?\n",
      "Pakistan\n",
      "USA\n",
      "UAE\n",
      "Africa\n",
      "Pakistan\n",
      "2: What is your city name?\n",
      "Islamabad\n",
      "Karachi\n",
      "Quetta\n",
      "Lahore\n",
      "Karachi\n",
      "3: What is the capital of Pakistan?\n",
      "Islamabad\n",
      "Karachi\n",
      "Quetta\n",
      "Lahore\n",
      "Islamabad\n",
      "4: how many provinces of Pakistan are there?\n",
      "Three\n",
      "Two\n",
      "Six\n",
      "Four\n",
      "Four\n",
      "5: Which one is the largest province of Pakistan?\n",
      "Balochistan\n",
      "KPK\n",
      "Sindh\n",
      "Punjab\n",
      "Balochistan\n",
      "Your score is:5\n",
      "Percentage= 100.0\n"
     ]
    }
   ],
   "source": [
    "# QUIZ APPLICATION\n",
    "quiz=[\n",
    "    {\n",
    "        \"Serial no.\" : 1,\n",
    "        \"Question\" :\" What is your country name?\",\n",
    "        \"Options\"  :[\"Pakistan\",\"USA\",\"UAE\",\"Africa\"],\n",
    "        \"Answer\"   :\"Pakistan\"\n",
    "    },\n",
    "     {\n",
    "        \"Serial no.\" : 2,\n",
    "        \"Question\" :\" What is your city name?\",\n",
    "        \"Options\"  :[\"Islamabad\",\"Karachi\",\"Quetta\",\"Lahore\"],\n",
    "        \"Answer\"   :\"Karachi\"\n",
    "    },\n",
    "     {\n",
    "        \"Serial no.\" : 3,\n",
    "        \"Question\" :\" What is the capital of Pakistan?\",\n",
    "        \"Options\"  :[\"Islamabad\",\"Karachi\",\"Quetta\",\"Lahore\"],\n",
    "        \"Answer\"   :\"Islamabad\"\n",
    "    },\n",
    "    {\n",
    "        \"Serial no.\" : 4,\n",
    "        \"Question\" :\" how many provinces of Pakistan are there?\",\n",
    "        \"Options\"  :[\"Three\",\"Two\",\"Six\",\"Four\"],\n",
    "        \"Answer\"   :\"Four\"\n",
    "    },\n",
    "     {\n",
    "        \"Serial no.\" : 5,\n",
    "        \"Question\" :\" Which one is the largest province of Pakistan?\",\n",
    "        \"Options\"  :[\"Balochistan\",\"KPK\",\"Sindh\",\"Punjab\"],\n",
    "        \"Answer\"   :\"Balochistan\"\n",
    "    }\n",
    "]\n",
    "\n",
    "score = 0\n",
    "for question in quiz:\n",
    "    data=str(question[\"Serial no.\"])+\":\"+question[\"Question\"]+\"\\n\"+question[\"Options\"][0]+\"\\n\"+question[\"Options\"][1]+\"\\n\"+question[\"Options\"][2]+\"\\n\"+question[\"Options\"][3]+\"\\n\"\n",
    "    Answer=input(data)\n",
    "    if Answer==question[\"Answer\"]:\n",
    "        score += 1\n",
    "        \n",
    "print(\"Your score is:\" +str(score))\n",
    "percentage=(score/5)*100\n",
    "print(\"Percentage=\",percentage)\n"
   ]
  },
  {
   "cell_type": "code",
   "execution_count": null,
   "metadata": {},
   "outputs": [],
   "source": []
  }
 ],
 "metadata": {
  "kernelspec": {
   "display_name": "Python 3",
   "language": "python",
   "name": "python3"
  },
  "language_info": {
   "codemirror_mode": {
    "name": "ipython",
    "version": 3
   },
   "file_extension": ".py",
   "mimetype": "text/x-python",
   "name": "python",
   "nbconvert_exporter": "python",
   "pygments_lexer": "ipython3",
   "version": "3.7.4"
  }
 },
 "nbformat": 4,
 "nbformat_minor": 2
}
