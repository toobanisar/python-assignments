{
 "cells": [
  {
   "cell_type": "code",
   "execution_count": 30,
   "metadata": {},
   "outputs": [
    {
     "name": "stdout",
     "output_type": "stream",
     "text": [
      "Please enter any number to find factorial: 5\n",
      "(120, 'Is the factorial of the number')\n"
     ]
    }
   ],
   "source": [
    "def factorial(num):\n",
    "    fact=1\n",
    "    for i in range(1, num+1):\n",
    "        fact=fact*i\n",
    "    return fact     \n",
    "number=int(input(\"Please enter any number to find factorial: \"))\n",
    "result=factorial(number)\n",
    "print(result,\"Is the factorial of the number\")"
   ]
  },
  {
   "cell_type": "code",
   "execution_count": 31,
   "metadata": {},
   "outputs": [
    {
     "name": "stdout",
     "output_type": "stream",
     "text": [
      "('Original String : ', 'Cisco Proprietry Protocols')\n",
      "('No. of Upper case characters : ', 3)\n",
      "('No. of Lower case Characters : ', 21)\n"
     ]
    }
   ],
   "source": [
    "def string_test(str):\n",
    "    d={\"UPPER_CASE\":0, \"LOWER_CASE\":0}\n",
    "    for c in str:\n",
    "        if c.isupper():\n",
    "           d[\"UPPER_CASE\"]+=1\n",
    "        elif c.islower():\n",
    "           d[\"LOWER_CASE\"]+=1\n",
    "        else:\n",
    "           pass\n",
    "    print (\"Original String : \", str)\n",
    "    print (\"No. of Upper case characters : \", d[\"UPPER_CASE\"])\n",
    "    print (\"No. of Lower case Characters : \", d[\"LOWER_CASE\"])\n",
    " \n",
    "string_test('Cisco Proprietry Protocols')"
   ]
  },
  {
   "cell_type": "code",
   "execution_count": 9,
   "metadata": {},
   "outputs": [
    {
     "name": "stdout",
     "output_type": "stream",
     "text": [
      "[2, 4, 6, 8]\n"
     ]
    }
   ],
   "source": [
    "list1 = [1, 2, 3, 4, 5, 6, 7, 8, 9]\n",
    "def get_evens(input_list):\n",
    "    output = [x for x in input_list if x % 2 == 0]\n",
    "    return output\n",
    "print(get_evens(list1))"
   ]
  },
  {
   "cell_type": "code",
   "execution_count": 1,
   "metadata": {},
   "outputs": [
    {
     "name": "stdout",
     "output_type": "stream",
     "text": [
      "Yes\n"
     ]
    }
   ],
   "source": [
    "def isPalindrome(str): \n",
    "  \n",
    "    # Run loop from 0 to len/2  \n",
    "    for i in xrange(0, len(str)/2):  \n",
    "        if str[i] != str[len(str)-i-1]: \n",
    "            return False\n",
    "    return True\n",
    "  \n",
    "# main function \n",
    "s = \"madam\"\n",
    "ans = isPalindrome(s) \n",
    "  \n",
    "if (ans): \n",
    "    print(\"Yes\") \n",
    "else: \n",
    "    print(\"No\") "
   ]
  },
  {
   "cell_type": "code",
   "execution_count": 6,
   "metadata": {},
   "outputs": [
    {
     "name": "stdout",
     "output_type": "stream",
     "text": [
      "Enter number: 6\n",
      "False\n"
     ]
    }
   ],
   "source": [
    "def test_prime(num):\n",
    "    if (num==1):\n",
    "        return False\n",
    "    elif (num==2):\n",
    "        return True;\n",
    "    else:\n",
    "        for x in range(2, num):\n",
    "            if(num % x==0):\n",
    "                return False\n",
    "        return True             \n",
    "print(test_prime(int(input(\"Enter number: \"))))"
   ]
  },
  {
   "cell_type": "code",
   "execution_count": 29,
   "metadata": {},
   "outputs": [
    {
     "name": "stdout",
     "output_type": "stream",
     "text": [
      "Bag\n",
      "Shoes\n",
      "Hair dryer\n"
     ]
    }
   ],
   "source": [
    "def func(*parameters):\n",
    "    for value in parameters:\n",
    "        print(value)\n",
    "\n",
    "func(\"Bag\", \"Shoes\",\"Hair dryer\",\"grocery\")  "
   ]
  }
 ],
 "metadata": {
  "kernelspec": {
   "display_name": "Python 2",
   "language": "python",
   "name": "python2"
  },
  "language_info": {
   "codemirror_mode": {
    "name": "ipython",
    "version": 2
   },
   "file_extension": ".py",
   "mimetype": "text/x-python",
   "name": "python",
   "nbconvert_exporter": "python",
   "pygments_lexer": "ipython2",
   "version": "2.7.16"
  }
 },
 "nbformat": 4,
 "nbformat_minor": 2
}
